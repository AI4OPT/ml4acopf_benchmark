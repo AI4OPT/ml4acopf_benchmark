{
 "cells": [
  {
   "cell_type": "code",
   "execution_count": 1,
   "id": "9375eb16-2d38-4cd0-a6ec-14ea7bec8987",
   "metadata": {
    "tags": []
   },
   "outputs": [
    {
     "name": "stdout",
     "output_type": "stream",
     "text": [
      "The history saving thread hit an unexpected error (DatabaseError('database disk image is malformed')).History will not be written to the database.\n"
     ]
    }
   ],
   "source": [
    "import torch\n",
    "\n",
    "def find_parameters(model, seen=tuple()):\n",
    "    \"\"\"\n",
    "    Recursively explore a PyTorch model and find all Tensors\n",
    "    \"\"\"\n",
    "    seen = seen + (id(model),)\n",
    "\n",
    "    parameters = []\n",
    "    for param in dir(model):\n",
    "        item = getattr(model, param)\n",
    "        if isinstance(item, torch.Tensor):\n",
    "            parameters.append((model, param, item))\n",
    "        elif isinstance(item, torch.nn.Module) and id(item) not in seen:\n",
    "            parameters += find_parameters(item, seen)\n",
    "            seen = seen + (id(item),)\n",
    "\n",
    "    return parameters"
   ]
  },
  {
   "cell_type": "code",
   "execution_count": 2,
   "id": "416f79d3-5147-4259-bece-15f915770f27",
   "metadata": {
    "tags": []
   },
   "outputs": [],
   "source": [
    "import numpy as np\n",
    "import onnx\n",
    "import onnxruntime  as ort\n",
    "from vnnlib.compat import read_vnnlib_simple\n",
    "\n",
    "def load_vnnlib(model_path=\"../onnx/14_ieee_ml4acopf.onnx\", vnnlib_path=\"../vnnlib/14_ieee_prop1.vnnlib\"):\n",
    "    # Load the ONNX model into memory\n",
    "    model = onnx.load(model_path)\n",
    "    sess_options = ort.SessionOptions()\n",
    "    sess_options.intra_op_num_threads = 1\n",
    "    sess = ort.InferenceSession(model_path, sess_options=sess_options)\n",
    "\n",
    "    # Get information about the input and output nodes of the ONNX model\n",
    "    input_info = sess.get_inputs()\n",
    "    output_info = sess.get_outputs()\n",
    "    input_name = input_info[0].name\n",
    "    input_shape = input_info[0].shape\n",
    "    output_name = output_info[0].name\n",
    "    output_shape = output_info[0].shape\n",
    "\n",
    "    # Load the vnnlib file into memory\n",
    "    spec, = read_vnnlib_simple(vnnlib_path, input_shape[1], output_shape[1])\n",
    "\n",
    "    return input_shape, spec"
   ]
  },
  {
   "cell_type": "code",
   "execution_count": 3,
   "id": "ebab359e-f99c-4895-bb3d-9387446b3c2b",
   "metadata": {
    "tags": []
   },
   "outputs": [],
   "source": [
    "import pandas as pd\n",
    "import glob\n",
    "\n",
    "instances = pd.read_csv('../instances.csv', names=['onnx', 'vnnlib', 'runtime'])"
   ]
  },
  {
   "cell_type": "code",
   "execution_count": 4,
   "id": "1020de10-cb53-4c7e-a8eb-3093abb0b1b9",
   "metadata": {
    "tags": []
   },
   "outputs": [
    {
     "name": "stderr",
     "output_type": "stream",
     "text": [
      "/opt/conda/envs/mega/lib/python3.10/site-packages/vnnlib/parser.py:276: UserWarning: literal negation does not strictly follow SMT-LIB\n",
      "  warnings.warn(\"literal negation does not strictly follow SMT-LIB\")\n",
      "/opt/conda/envs/mega/lib/python3.10/site-packages/onnx2torch/node_converters/slice.py:33: TracerWarning: Converting a tensor to a NumPy array might cause the trace to be incorrect. We can't record the data flow of Python values, so this value will be treated as a constant in the future. This means that the trace might not generalize to other inputs!\n",
      "  axes = axes.detach().cpu().numpy()\n",
      "/opt/conda/envs/mega/lib/python3.10/site-packages/onnx2torch/node_converters/slice.py:38: TracerWarning: Converting a tensor to a NumPy array might cause the trace to be incorrect. We can't record the data flow of Python values, so this value will be treated as a constant in the future. This means that the trace might not generalize to other inputs!\n",
      "  steps = steps.detach().cpu().numpy()\n",
      "/opt/conda/envs/mega/lib/python3.10/site-packages/onnx2torch/node_converters/slice.py:42: TracerWarning: Iterating over a tensor might cause the trace to be incorrect. Passing a tensor of different shape won't change the number of iterations executed (and might lead to errors or silently give incorrect results).\n",
      "  for start, end, axis, step in zip(starts, ends, axes, steps):\n",
      "/opt/conda/envs/mega/lib/python3.10/site-packages/onnx2torch/node_converters/constant_of_shape.py:33: TracerWarning: Iterating over a tensor might cause the trace to be incorrect. Passing a tensor of different shape won't change the number of iterations executed (and might lead to errors or silently give incorrect results).\n",
      "  size=torch.Size(shape),\n",
      "/opt/conda/envs/mega/lib/python3.10/site-packages/onnx2torch/node_converters/constant_of_shape.py:33: TracerWarning: Using len to get tensor shape might cause the trace to be incorrect. Recommended usage would be tensor.shape[0]. Passing a tensor of different shape might lead to errors or silently give incorrect results.\n",
      "  size=torch.Size(shape),\n",
      "/opt/conda/envs/mega/lib/python3.10/site-packages/onnx2torch/node_converters/constant_of_shape.py:34: TracerWarning: Converting a tensor to a Python number might cause the trace to be incorrect. We can't record the data flow of Python values, so this value will be treated as a constant in the future. This means that the trace might not generalize to other inputs!\n",
      "  fill_value=self.value.item(),\n",
      "/opt/conda/envs/mega/lib/python3.10/site-packages/onnx2torch/node_converters/expand.py:24: TracerWarning: Iterating over a tensor might cause the trace to be incorrect. Passing a tensor of different shape won't change the number of iterations executed (and might lead to errors or silently give incorrect results).\n",
      "  return input_tensor * torch.ones(torch.Size(shape), dtype=input_tensor.dtype, device=input_tensor.device)\n",
      "/opt/conda/envs/mega/lib/python3.10/site-packages/onnx2torch/node_converters/expand.py:24: TracerWarning: Using len to get tensor shape might cause the trace to be incorrect. Recommended usage would be tensor.shape[0]. Passing a tensor of different shape might lead to errors or silently give incorrect results.\n",
      "  return input_tensor * torch.ones(torch.Size(shape), dtype=input_tensor.dtype, device=input_tensor.device)\n",
      "/opt/conda/envs/mega/lib/python3.10/site-packages/onnx2torch/utils/custom_export_to_onnx.py:100: FutureWarning: 'torch.onnx._patch_torch._graph_op' is deprecated in version 1.13 and will be removed in version 1.14. Please note 'g.op()' is to be removed from torch.Graph. Please open a GitHub issue if you need this functionality..\n",
      "  return graph.op(op_type, *inputs, **onnx_attrs, outputs=1)\n"
     ]
    }
   ],
   "source": [
    "import onnx2torch\n",
    "\n",
    "for i, row in instances.iterrows():\n",
    "    model_path = '../' + row['onnx']\n",
    "    vnnlib_path = '../' + row['vnnlib']\n",
    "\n",
    "    # Load the onnx model into PyTorch\n",
    "    torch_model = onnx2torch.convert(model_path)\n",
    "\n",
    "    # Turn all float32 parameters into float64 tensors\n",
    "    for obj, param, item in find_parameters(torch_model):\n",
    "        if item.dtype == torch.float32:\n",
    "            setattr(obj, param, type(item)(item.to(torch.float64)))\n",
    "\n",
    "    # Load the vnnlib spec\n",
    "    input_shape, (input_spec, output_spec) = load_vnnlib(model_path, vnnlib_path)\n",
    "    input_spec = torch.tensor(input_spec, dtype=torch.float64)\n",
    "\n",
    "    # Create a dummy input\n",
    "    X = input_spec[None, :, 0]\n",
    "    assert list(X.shape) == input_shape\n",
    "\n",
    "    input_names = ['X']\n",
    "    output_names = ['Y']\n",
    "\n",
    "    # Export the model\n",
    "    torch.onnx.export(torch_model, X, model_path + '.64bit', input_names=input_names, output_names=output_names, opset_version=12)"
   ]
  },
  {
   "cell_type": "code",
   "execution_count": null,
   "id": "4bd853ce-73ef-4d3d-bc0c-2bbfd1607bf6",
   "metadata": {},
   "outputs": [],
   "source": []
  }
 ],
 "metadata": {
  "kernelspec": {
   "display_name": "mega",
   "language": "python",
   "name": "mega"
  },
  "language_info": {
   "codemirror_mode": {
    "name": "ipython",
    "version": 3
   },
   "file_extension": ".py",
   "mimetype": "text/x-python",
   "name": "python",
   "nbconvert_exporter": "python",
   "pygments_lexer": "ipython3",
   "version": "3.10.9"
  }
 },
 "nbformat": 4,
 "nbformat_minor": 5
}
